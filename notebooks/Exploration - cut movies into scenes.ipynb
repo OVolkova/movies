{
 "cells": [
  {
   "cell_type": "code",
   "execution_count": 6,
   "metadata": {},
   "outputs": [],
   "source": [
    "import os\n",
    "import time\n",
    "from typing import Tuple\n",
    "from pathlib import Path\n",
    "\n",
    "import pandas as pd\n",
    "import numpy as np\n",
    "\n",
    "import html2text\n",
    "import tqdm\n",
    "import pickle\n",
    "import matplotlib.pyplot as plt\n",
    "\n",
    "\n",
    "import html2text"
   ]
  },
  {
   "cell_type": "markdown",
   "metadata": {},
   "source": [
    "# Load movies dataset"
   ]
  },
  {
   "cell_type": "code",
   "execution_count": 7,
   "metadata": {},
   "outputs": [],
   "source": [
    "DATA_PATH = os.path.expandvars(\"$MOVIES_DATA/origin\")"
   ]
  },
  {
   "cell_type": "code",
   "execution_count": 8,
   "metadata": {},
   "outputs": [
    {
     "data": {
      "text/plain": [
       "['movies_subtitles.csv', 'movies_subtitles_text.csv', 'movies_meta.csv']"
      ]
     },
     "execution_count": 8,
     "metadata": {},
     "output_type": "execute_result"
    }
   ],
   "source": [
    "os.listdir(DATA_PATH)"
   ]
  },
  {
   "cell_type": "code",
   "execution_count": 27,
   "metadata": {},
   "outputs": [],
   "source": [
    "subs = pd.read_csv(Path(DATA_PATH, 'movies_subtitles.csv'))\n",
    "subs.dropna(inplace=True)\n",
    "subs.drop_duplicates([\"imdb_id\", \"start_time\", \"end_time\", \"text\"], inplace=True)\n",
    "subs = subs.sort_values([\"imdb_id\", \"start_time\", \"end_time\"]).reset_index(drop=True)\n",
    "subs[\"text\"] = subs[\"text\"].apply(html2text.html2text).str.strip().str.replace('\\n', ' ')"
   ]
  },
  {
   "cell_type": "code",
   "execution_count": 29,
   "metadata": {},
   "outputs": [],
   "source": [
    "subs.to_csv(Path(DATA_PATH, 'movies_subtitles_text.csv'))"
   ]
  },
  {
   "cell_type": "code",
   "execution_count": 195,
   "metadata": {},
   "outputs": [],
   "source": [
    "subs = pd.read_csv(Path(DATA_PATH, 'movies_subtitles_text.csv'))"
   ]
  },
  {
   "cell_type": "code",
   "execution_count": 197,
   "metadata": {},
   "outputs": [
    {
     "data": {
      "text/html": [
       "<div>\n",
       "<style scoped>\n",
       "    .dataframe tbody tr th:only-of-type {\n",
       "        vertical-align: middle;\n",
       "    }\n",
       "\n",
       "    .dataframe tbody tr th {\n",
       "        vertical-align: top;\n",
       "    }\n",
       "\n",
       "    .dataframe thead th {\n",
       "        text-align: right;\n",
       "    }\n",
       "</style>\n",
       "<table border=\"1\" class=\"dataframe\">\n",
       "  <thead>\n",
       "    <tr style=\"text-align: right;\">\n",
       "      <th></th>\n",
       "      <th>Unnamed: 0</th>\n",
       "      <th>start_time</th>\n",
       "      <th>end_time</th>\n",
       "      <th>text</th>\n",
       "      <th>imdb_id</th>\n",
       "    </tr>\n",
       "  </thead>\n",
       "  <tbody>\n",
       "    <tr>\n",
       "      <th>1778361</th>\n",
       "      <td>1778361</td>\n",
       "      <td>58.559</td>\n",
       "      <td>61.602</td>\n",
       "      <td>BOY: All right, everyone! This... is a stick-up!</td>\n",
       "      <td>tt0114709</td>\n",
       "    </tr>\n",
       "    <tr>\n",
       "      <th>1778362</th>\n",
       "      <td>1778362</td>\n",
       "      <td>61.687</td>\n",
       "      <td>63.354</td>\n",
       "      <td>Don't anybody move!</td>\n",
       "      <td>tt0114709</td>\n",
       "    </tr>\n",
       "    <tr>\n",
       "      <th>1778363</th>\n",
       "      <td>1778363</td>\n",
       "      <td>64.398</td>\n",
       "      <td>66.482</td>\n",
       "      <td>Now, empty that safe!</td>\n",
       "      <td>tt0114709</td>\n",
       "    </tr>\n",
       "    <tr>\n",
       "      <th>1778364</th>\n",
       "      <td>1778364</td>\n",
       "      <td>68.318</td>\n",
       "      <td>71.612</td>\n",
       "      <td>Ooh-hoo-hoo! Money, money, money! (KISSING)</td>\n",
       "      <td>tt0114709</td>\n",
       "    </tr>\n",
       "    <tr>\n",
       "      <th>1778365</th>\n",
       "      <td>1778365</td>\n",
       "      <td>71.697</td>\n",
       "      <td>74.031</td>\n",
       "      <td>Stop it! Stop it, you mean, old potato!</td>\n",
       "      <td>tt0114709</td>\n",
       "    </tr>\n",
       "    <tr>\n",
       "      <th>...</th>\n",
       "      <td>...</td>\n",
       "      <td>...</td>\n",
       "      <td>...</td>\n",
       "      <td>...</td>\n",
       "      <td>...</td>\n",
       "    </tr>\n",
       "    <tr>\n",
       "      <th>1779742</th>\n",
       "      <td>1779742</td>\n",
       "      <td>4722.509</td>\n",
       "      <td>4725.595</td>\n",
       "      <td>♪ Our friendship will never die</td>\n",
       "      <td>tt0114709</td>\n",
       "    </tr>\n",
       "    <tr>\n",
       "      <th>1779743</th>\n",
       "      <td>1779743</td>\n",
       "      <td>4727.139</td>\n",
       "      <td>4731.935</td>\n",
       "      <td>♪ You're gonna see it's our destiny</td>\n",
       "      <td>tt0114709</td>\n",
       "    </tr>\n",
       "    <tr>\n",
       "      <th>1779744</th>\n",
       "      <td>1779744</td>\n",
       "      <td>4732.019</td>\n",
       "      <td>4735.980</td>\n",
       "      <td>♪ You've got a friend in me</td>\n",
       "      <td>tt0114709</td>\n",
       "    </tr>\n",
       "    <tr>\n",
       "      <th>1779745</th>\n",
       "      <td>1779745</td>\n",
       "      <td>4736.065</td>\n",
       "      <td>4738.650</td>\n",
       "      <td>♪ You've got a friend in me</td>\n",
       "      <td>tt0114709</td>\n",
       "    </tr>\n",
       "    <tr>\n",
       "      <th>1779746</th>\n",
       "      <td>1779746</td>\n",
       "      <td>4740.319</td>\n",
       "      <td>4840.877</td>\n",
       "      <td>♪ You've got a friend in me ♪</td>\n",
       "      <td>tt0114709</td>\n",
       "    </tr>\n",
       "  </tbody>\n",
       "</table>\n",
       "<p>1386 rows × 5 columns</p>\n",
       "</div>"
      ],
      "text/plain": [
       "         Unnamed: 0  start_time  end_time  \\\n",
       "1778361     1778361      58.559    61.602   \n",
       "1778362     1778362      61.687    63.354   \n",
       "1778363     1778363      64.398    66.482   \n",
       "1778364     1778364      68.318    71.612   \n",
       "1778365     1778365      71.697    74.031   \n",
       "...             ...         ...       ...   \n",
       "1779742     1779742    4722.509  4725.595   \n",
       "1779743     1779743    4727.139  4731.935   \n",
       "1779744     1779744    4732.019  4735.980   \n",
       "1779745     1779745    4736.065  4738.650   \n",
       "1779746     1779746    4740.319  4840.877   \n",
       "\n",
       "                                                     text    imdb_id  \n",
       "1778361  BOY: All right, everyone! This... is a stick-up!  tt0114709  \n",
       "1778362                               Don't anybody move!  tt0114709  \n",
       "1778363                             Now, empty that safe!  tt0114709  \n",
       "1778364       Ooh-hoo-hoo! Money, money, money! (KISSING)  tt0114709  \n",
       "1778365           Stop it! Stop it, you mean, old potato!  tt0114709  \n",
       "...                                                   ...        ...  \n",
       "1779742                   ♪ Our friendship will never die  tt0114709  \n",
       "1779743               ♪ You're gonna see it's our destiny  tt0114709  \n",
       "1779744                       ♪ You've got a friend in me  tt0114709  \n",
       "1779745                       ♪ You've got a friend in me  tt0114709  \n",
       "1779746                     ♪ You've got a friend in me ♪  tt0114709  \n",
       "\n",
       "[1386 rows x 5 columns]"
      ]
     },
     "execution_count": 197,
     "metadata": {},
     "output_type": "execute_result"
    }
   ],
   "source": [
    "subs[subs[\"imdb_id\"]=='tt0114709']"
   ]
  },
  {
   "cell_type": "markdown",
   "metadata": {},
   "source": [
    "# Analysis for deltas between  lines, line duration, length, and speed for all movies together"
   ]
  },
  {
   "cell_type": "code",
   "execution_count": 198,
   "metadata": {},
   "outputs": [],
   "source": [
    "def _clean_times(s: np.array, e: np.array) -> Tuple[np.array, np.array, np.array]:\n",
    "    \"\"\"\n",
    "    s: start time\n",
    "    e: end time\n",
    "    d: duration\n",
    "    \"\"\"\n",
    "    d = e - s\n",
    "    e = np.where(d<0, 1, 0) * s + np.where(d>=0, 1, 0) * e\n",
    "    d = e - s\n",
    "    return s, e, d\n",
    " \n",
    "def prepare_times(subs: pd.DataFrame):\n",
    "    _, e, d = _clean_times(subs[\"start_time\"].values, subs[\"end_time\"].values)\n",
    "    subs[\"end_time\"]\n",
    "    subs[\"duration\"] = d\n",
    "  \n"
   ]
  },
  {
   "cell_type": "code",
   "execution_count": 199,
   "metadata": {},
   "outputs": [
    {
     "name": "stderr",
     "output_type": "stream",
     "text": [
      "100%|██████████████████████████████████████| 4664/4664 [00:04<00:00, 990.52it/s]\n"
     ]
    }
   ],
   "source": [
    "prepare_times(subs)\n",
    "\n",
    "subs[\"delta\"] = 0  \n",
    "for i, group in tqdm.tqdm(subs.groupby(\"imdb_id\")):\n",
    "    subs.loc[group.index[1:], \"delta\"] = subs.loc[group.index[1:], \"start_time\"].values - subs.loc[group.index[:-1],\"end_time\"].values\n",
    "\n",
    "subs[\"text_len\"] = subs[\"text\"].str.len()\n",
    "subs[\"text_speed\"] = np.divide(subs[\"text_len\"].values,\n",
    "                               subs[\"duration\"].values,\n",
    "                               out=np.zeros_like(subs[\"text_len\"].values), \n",
    "                               where=subs[\"duration\"].values!=0)"
   ]
  },
  {
   "cell_type": "code",
   "execution_count": 200,
   "metadata": {},
   "outputs": [
    {
     "data": {
      "text/plain": [
       "count    5.201231e+06\n",
       "mean     2.507535e+00\n",
       "std      1.893332e+01\n",
       "min      0.000000e+00\n",
       "25%      1.706000e+00\n",
       "50%      2.298000e+00\n",
       "75%      3.084000e+00\n",
       "max      4.248300e+04\n",
       "Name: duration, dtype: float64"
      ]
     },
     "execution_count": 200,
     "metadata": {},
     "output_type": "execute_result"
    }
   ],
   "source": [
    "subs[\"duration\"].describe()"
   ]
  },
  {
   "cell_type": "code",
   "execution_count": 201,
   "metadata": {},
   "outputs": [
    {
     "data": {
      "text/plain": [
       "(4.493999999999687, 5.003999999998996, 8.208999999999833)"
      ]
     },
     "execution_count": 201,
     "metadata": {},
     "output_type": "execute_result"
    }
   ],
   "source": [
    "subs[\"duration\"].quantile(0.95), subs[\"duration\"].quantile(0.975), subs[\"duration\"].quantile(0.999)"
   ]
  },
  {
   "cell_type": "code",
   "execution_count": 202,
   "metadata": {},
   "outputs": [
    {
     "data": {
      "text/plain": [
       "count    5.201212e+06\n",
       "mean     3.384919e+01\n",
       "std      1.799985e+01\n",
       "min      1.000000e+00\n",
       "25%      2.000000e+01\n",
       "50%      3.200000e+01\n",
       "75%      4.600000e+01\n",
       "max      4.770000e+02\n",
       "Name: text_len, dtype: float64"
      ]
     },
     "execution_count": 202,
     "metadata": {},
     "output_type": "execute_result"
    }
   ],
   "source": [
    "subs[\"text_len\"].describe()"
   ]
  },
  {
   "cell_type": "code",
   "execution_count": 203,
   "metadata": {},
   "outputs": [
    {
     "data": {
      "text/plain": [
       "(7.0, 66.0, 93.0)"
      ]
     },
     "execution_count": 203,
     "metadata": {},
     "output_type": "execute_result"
    }
   ],
   "source": [
    "subs[\"text_len\"].quantile(0.05), subs[\"text_len\"].quantile(0.95),  subs[\"text_len\"].quantile(0.999)"
   ]
  },
  {
   "cell_type": "code",
   "execution_count": 204,
   "metadata": {},
   "outputs": [
    {
     "data": {
      "text/plain": [
       "count    5.201212e+06\n",
       "mean     1.442413e+01\n",
       "std      9.731904e+01\n",
       "min      0.000000e+00\n",
       "25%      9.690817e+00\n",
       "50%      1.357143e+01\n",
       "75%      1.755379e+01\n",
       "max      8.350000e+04\n",
       "Name: text_speed, dtype: float64"
      ]
     },
     "execution_count": 204,
     "metadata": {},
     "output_type": "execute_result"
    }
   ],
   "source": [
    "subs[\"text_speed\"].describe()"
   ]
  },
  {
   "cell_type": "code",
   "execution_count": 205,
   "metadata": {},
   "outputs": [
    {
     "data": {
      "text/plain": [
       "(2.4691358024695793, 4.552352048558322, 24.182076813656636, 80.64516128986358)"
      ]
     },
     "execution_count": 205,
     "metadata": {},
     "output_type": "execute_result"
    }
   ],
   "source": [
    "subs[\"text_speed\"].quantile(0.01), subs[\"text_speed\"].quantile(0.05), subs[\"text_speed\"].quantile(0.95),  subs[\"text_speed\"].quantile(0.999)"
   ]
  },
  {
   "cell_type": "code",
   "execution_count": 210,
   "metadata": {},
   "outputs": [
    {
     "data": {
      "text/html": [
       "<div>\n",
       "<style scoped>\n",
       "    .dataframe tbody tr th:only-of-type {\n",
       "        vertical-align: middle;\n",
       "    }\n",
       "\n",
       "    .dataframe tbody tr th {\n",
       "        vertical-align: top;\n",
       "    }\n",
       "\n",
       "    .dataframe thead th {\n",
       "        text-align: right;\n",
       "    }\n",
       "</style>\n",
       "<table border=\"1\" class=\"dataframe\">\n",
       "  <thead>\n",
       "    <tr style=\"text-align: right;\">\n",
       "      <th></th>\n",
       "      <th>Unnamed: 0</th>\n",
       "      <th>start_time</th>\n",
       "      <th>end_time</th>\n",
       "      <th>text</th>\n",
       "      <th>imdb_id</th>\n",
       "      <th>duration</th>\n",
       "      <th>delta</th>\n",
       "      <th>text_len</th>\n",
       "      <th>text_speed</th>\n",
       "    </tr>\n",
       "  </thead>\n",
       "  <tbody>\n",
       "    <tr>\n",
       "      <th>19883</th>\n",
       "      <td>19883</td>\n",
       "      <td>6301.240</td>\n",
       "      <td>6321.993</td>\n",
       "      <td>\"The Word that wings joyfully throughout the u...</td>\n",
       "      <td>tt0016847</td>\n",
       "      <td>20.753</td>\n",
       "      <td>3.129</td>\n",
       "      <td>183.0</td>\n",
       "      <td>8.818002</td>\n",
       "    </tr>\n",
       "    <tr>\n",
       "      <th>24513</th>\n",
       "      <td>24513</td>\n",
       "      <td>5134.000</td>\n",
       "      <td>5734.000</td>\n",
       "      <td>Auto translated by \" **Free SRT-File Translato...</td>\n",
       "      <td>tt0019130</td>\n",
       "      <td>600.000</td>\n",
       "      <td>0.686</td>\n",
       "      <td>111.0</td>\n",
       "      <td>0.185000</td>\n",
       "    </tr>\n",
       "    <tr>\n",
       "      <th>61591</th>\n",
       "      <td>61591</td>\n",
       "      <td>9949.137</td>\n",
       "      <td>10190.137</td>\n",
       "      <td>© anoXmous  @ https://thepiratebay.se/user/Zen...</td>\n",
       "      <td>tt0023427</td>\n",
       "      <td>241.000</td>\n",
       "      <td>92.082</td>\n",
       "      <td>50.0</td>\n",
       "      <td>0.207469</td>\n",
       "    </tr>\n",
       "    <tr>\n",
       "      <th>75584</th>\n",
       "      <td>75584</td>\n",
       "      <td>65.090</td>\n",
       "      <td>120.000</td>\n",
       "      <td>CAPADOCIA, 55 AD Subtitles Encoded by Loya Nao...</td>\n",
       "      <td>tt0024453</td>\n",
       "      <td>54.910</td>\n",
       "      <td>0.000</td>\n",
       "      <td>65.0</td>\n",
       "      <td>1.183755</td>\n",
       "    </tr>\n",
       "    <tr>\n",
       "      <th>76192</th>\n",
       "      <td>76192</td>\n",
       "      <td>5400.000</td>\n",
       "      <td>5520.000</td>\n",
       "      <td>Subtitle encoded by Loya Naorem, Manipur, India</td>\n",
       "      <td>tt0024453</td>\n",
       "      <td>120.000</td>\n",
       "      <td>47.360</td>\n",
       "      <td>47.0</td>\n",
       "      <td>0.391667</td>\n",
       "    </tr>\n",
       "    <tr>\n",
       "      <th>...</th>\n",
       "      <td>...</td>\n",
       "      <td>...</td>\n",
       "      <td>...</td>\n",
       "      <td>...</td>\n",
       "      <td>...</td>\n",
       "      <td>...</td>\n",
       "      <td>...</td>\n",
       "      <td>...</td>\n",
       "      <td>...</td>\n",
       "    </tr>\n",
       "    <tr>\n",
       "      <th>5060697</th>\n",
       "      <td>5060697</td>\n",
       "      <td>4643.280</td>\n",
       "      <td>4801.314</td>\n",
       "      <td>Batman_Vs_Robin Re-Sync &amp; Edit Tharindu_Lakmal...</td>\n",
       "      <td>tt4324274</td>\n",
       "      <td>158.034</td>\n",
       "      <td>0.001</td>\n",
       "      <td>56.0</td>\n",
       "      <td>0.354354</td>\n",
       "    </tr>\n",
       "    <tr>\n",
       "      <th>5060710</th>\n",
       "      <td>5060710</td>\n",
       "      <td>36.000</td>\n",
       "      <td>66.000</td>\n",
       "      <td>filmeuy.com Free Watch Online &amp; Download Movies</td>\n",
       "      <td>tt4329098</td>\n",
       "      <td>30.000</td>\n",
       "      <td>0.229</td>\n",
       "      <td>47.0</td>\n",
       "      <td>1.566667</td>\n",
       "    </tr>\n",
       "    <tr>\n",
       "      <th>5072944</th>\n",
       "      <td>5072944</td>\n",
       "      <td>3.303</td>\n",
       "      <td>30.229</td>\n",
       "      <td>[♪♪♪]</td>\n",
       "      <td>tt4460176</td>\n",
       "      <td>26.926</td>\n",
       "      <td>0.000</td>\n",
       "      <td>5.0</td>\n",
       "      <td>0.185694</td>\n",
       "    </tr>\n",
       "    <tr>\n",
       "      <th>5115362</th>\n",
       "      <td>5115362</td>\n",
       "      <td>5095.037</td>\n",
       "      <td>5121.948</td>\n",
       "      <td>We help you to be MODERN Fashion Style Portrai...</td>\n",
       "      <td>tt4799050</td>\n",
       "      <td>26.911</td>\n",
       "      <td>6.343</td>\n",
       "      <td>76.0</td>\n",
       "      <td>2.824124</td>\n",
       "    </tr>\n",
       "    <tr>\n",
       "      <th>5117798</th>\n",
       "      <td>5117798</td>\n",
       "      <td>5165.761</td>\n",
       "      <td>5324.818</td>\n",
       "      <td>Don't! Liv!</td>\n",
       "      <td>tt4814760</td>\n",
       "      <td>159.057</td>\n",
       "      <td>0.002</td>\n",
       "      <td>11.0</td>\n",
       "      <td>0.069158</td>\n",
       "    </tr>\n",
       "  </tbody>\n",
       "</table>\n",
       "<p>521 rows × 9 columns</p>\n",
       "</div>"
      ],
      "text/plain": [
       "         Unnamed: 0  start_time   end_time  \\\n",
       "19883         19883    6301.240   6321.993   \n",
       "24513         24513    5134.000   5734.000   \n",
       "61591         61591    9949.137  10190.137   \n",
       "75584         75584      65.090    120.000   \n",
       "76192         76192    5400.000   5520.000   \n",
       "...             ...         ...        ...   \n",
       "5060697     5060697    4643.280   4801.314   \n",
       "5060710     5060710      36.000     66.000   \n",
       "5072944     5072944       3.303     30.229   \n",
       "5115362     5115362    5095.037   5121.948   \n",
       "5117798     5117798    5165.761   5324.818   \n",
       "\n",
       "                                                      text    imdb_id  \\\n",
       "19883    \"The Word that wings joyfully throughout the u...  tt0016847   \n",
       "24513    Auto translated by \" **Free SRT-File Translato...  tt0019130   \n",
       "61591    © anoXmous  @ https://thepiratebay.se/user/Zen...  tt0023427   \n",
       "75584    CAPADOCIA, 55 AD Subtitles Encoded by Loya Nao...  tt0024453   \n",
       "76192      Subtitle encoded by Loya Naorem, Manipur, India  tt0024453   \n",
       "...                                                    ...        ...   \n",
       "5060697  Batman_Vs_Robin Re-Sync & Edit Tharindu_Lakmal...  tt4324274   \n",
       "5060710    filmeuy.com Free Watch Online & Download Movies  tt4329098   \n",
       "5072944                                              [♪♪♪]  tt4460176   \n",
       "5115362  We help you to be MODERN Fashion Style Portrai...  tt4799050   \n",
       "5117798                                        Don't! Liv!  tt4814760   \n",
       "\n",
       "         duration   delta  text_len  text_speed  \n",
       "19883      20.753   3.129     183.0    8.818002  \n",
       "24513     600.000   0.686     111.0    0.185000  \n",
       "61591     241.000  92.082      50.0    0.207469  \n",
       "75584      54.910   0.000      65.0    1.183755  \n",
       "76192     120.000  47.360      47.0    0.391667  \n",
       "...           ...     ...       ...         ...  \n",
       "5060697   158.034   0.001      56.0    0.354354  \n",
       "5060710    30.000   0.229      47.0    1.566667  \n",
       "5072944    26.926   0.000       5.0    0.185694  \n",
       "5115362    26.911   6.343      76.0    2.824124  \n",
       "5117798   159.057   0.002      11.0    0.069158  \n",
       "\n",
       "[521 rows x 9 columns]"
      ]
     },
     "execution_count": 210,
     "metadata": {},
     "output_type": "execute_result"
    }
   ],
   "source": [
    "subs[subs[\"duration\"]>subs[\"duration\"].quantile(0.9999)]"
   ]
  },
  {
   "cell_type": "code",
   "execution_count": 96,
   "metadata": {},
   "outputs": [
    {
     "data": {
      "image/png": "[encoded data removed]",
      "text/plain": [
       "<Figure size 720x216 with 1 Axes>"
      ]
     },
     "metadata": {
      "needs_background": "light"
     },
     "output_type": "display_data"
    }
   ],
   "source": [
    "plt.figure(figsize=(10,3))\n",
    "plt.hist(subs[subs[\"duration\"]< 10**3][\"duration\"], bins = 100, log=True)\n",
    "plt.title(\"Duration of one line, histogram\")\n",
    "plt.show()"
   ]
  },
  {
   "cell_type": "code",
   "execution_count": 97,
   "metadata": {},
   "outputs": [
    {
     "data": {
      "image/png": "[encoded data removed]",
      "text/plain": [
       "<Figure size 720x216 with 1 Axes>"
      ]
     },
     "metadata": {
      "needs_background": "light"
     },
     "output_type": "display_data"
    }
   ],
   "source": [
    "plt.figure(figsize=(10,3))\n",
    "plt.hist(subs[\"text_len\"], bins = 100, log=True)\n",
    "plt.title(\"Texts length of one line, histogram\")\n",
    "plt.show()"
   ]
  },
  {
   "cell_type": "code",
   "execution_count": 98,
   "metadata": {},
   "outputs": [
    {
     "data": {
      "image/png": "[encoded data removed]",
      "text/plain": [
       "<Figure size 720x216 with 1 Axes>"
      ]
     },
     "metadata": {
      "needs_background": "light"
     },
     "output_type": "display_data"
    }
   ],
   "source": [
    "plt.figure(figsize=(10,3))\n",
    "plt.hist(subs[\"text_speed\"], bins = 100, log=True)\n",
    "plt.title(\"Texts speed of one line, histogram\")\n",
    "plt.show()"
   ]
  },
  {
   "cell_type": "code",
   "execution_count": 99,
   "metadata": {},
   "outputs": [
    {
     "data": {
      "image/png": "[encoded data removed]",
      "text/plain": [
       "<Figure size 720x216 with 1 Axes>"
      ]
     },
     "metadata": {
      "needs_background": "light"
     },
     "output_type": "display_data"
    }
   ],
   "source": [
    "plt.figure(figsize=(10,3))\n",
    "plt.hist(subs[\"delta\"], bins = 100, log=True)\n",
    "plt.title(\"Time delta between lines, histogram\")\n",
    "plt.show()"
   ]
  },
  {
   "cell_type": "markdown",
   "metadata": {},
   "source": [
    "# Analysis for one movie"
   ]
  },
  {
   "cell_type": "code",
   "execution_count": 211,
   "metadata": {},
   "outputs": [],
   "source": [
    "full_subs = subs.copy()"
   ]
  },
  {
   "cell_type": "code",
   "execution_count": 242,
   "metadata": {
    "pycharm": {
     "name": "#%%\n"
    }
   },
   "outputs": [],
   "source": [
    "subs = full_subs[full_subs[\"imdb_id\"]=='tt0024453']"
   ]
  },
  {
   "cell_type": "code",
   "execution_count": 243,
   "metadata": {},
   "outputs": [],
   "source": [
    "subs.reset_index(inplace=True, drop=True)"
   ]
  },
  {
   "cell_type": "code",
   "execution_count": 244,
   "metadata": {
    "pycharm": {
     "name": "#%%\n"
    }
   },
   "outputs": [
    {
     "data": {
      "image/png": "[encoded data removed]",
      "text/plain": [
       "<Figure size 720x216 with 1 Axes>"
      ]
     },
     "metadata": {
      "needs_background": "light"
     },
     "output_type": "display_data"
    },
    {
     "data": {
      "image/png": "[encoded data removed]",
      "text/plain": [
       "<Figure size 720x216 with 1 Axes>"
      ]
     },
     "metadata": {
      "needs_background": "light"
     },
     "output_type": "display_data"
    },
    {
     "data": {
      "image/png": "[encoded data removed]",
      "text/plain": [
       "<Figure size 720x216 with 1 Axes>"
      ]
     },
     "metadata": {
      "needs_background": "light"
     },
     "output_type": "display_data"
    },
    {
     "data": {
      "image/png": "[encoded data removed]",
      "text/plain": [
       "<Figure size 720x216 with 1 Axes>"
      ]
     },
     "metadata": {
      "needs_background": "light"
     },
     "output_type": "display_data"
    }
   ],
   "source": [
    "plt.figure(figsize=(10,3))\n",
    "plt.hist(subs[subs[\"duration\"]< 10**3][\"duration\"], bins = 100, log=True)\n",
    "plt.title(\"Duration of one line, histogram\")\n",
    "plt.show()\n",
    "plt.figure(figsize=(10,3))\n",
    "plt.hist(subs[\"text_len\"], bins = 100, log=True)\n",
    "plt.title(\"Texts length of one line, histogram\")\n",
    "plt.show()\n",
    "plt.figure(figsize=(10,3))\n",
    "plt.hist(subs[\"text_speed\"], bins = 100, log=True)\n",
    "plt.title(\"Texts speed of one line, histogram\")\n",
    "plt.show()\n",
    "plt.figure(figsize=(10,3))\n",
    "plt.hist(subs[\"delta\"], bins = 100, log=True)\n",
    "plt.title(\"Time delta between lines, histogram\")\n",
    "plt.show()"
   ]
  },
  {
   "cell_type": "code",
   "execution_count": 245,
   "metadata": {},
   "outputs": [
    {
     "data": {
      "text/plain": [
       "(4.961400000000049, 5.403799999999864, 80.42528000000343)"
      ]
     },
     "execution_count": 245,
     "metadata": {},
     "output_type": "execute_result"
    }
   ],
   "source": [
    "subs[\"duration\"].quantile(0.95), subs[\"duration\"].quantile(0.975), subs[\"duration\"].quantile(0.999)"
   ]
  },
  {
   "cell_type": "code",
   "execution_count": 246,
   "metadata": {},
   "outputs": [
    {
     "data": {
      "text/plain": [
       "(7.0, 62.60000000000002, 77.31200000000058)"
      ]
     },
     "execution_count": 246,
     "metadata": {},
     "output_type": "execute_result"
    }
   ],
   "source": [
    "subs[\"text_len\"].quantile(0.05), subs[\"text_len\"].quantile(0.95),  subs[\"text_len\"].quantile(0.999)"
   ]
  },
  {
   "cell_type": "code",
   "execution_count": 247,
   "metadata": {},
   "outputs": [
    {
     "data": {
      "text/plain": [
       "(2.236070493484993, 3.972881355932228, 18.69552669552656, 24.00869565217266)"
      ]
     },
     "execution_count": 247,
     "metadata": {},
     "output_type": "execute_result"
    }
   ],
   "source": [
    "subs[\"text_speed\"].quantile(0.01), subs[\"text_speed\"].quantile(0.05), subs[\"text_speed\"].quantile(0.95),  subs[\"text_speed\"].quantile(0.999)"
   ]
  },
  {
   "cell_type": "code",
   "execution_count": 248,
   "metadata": {},
   "outputs": [
    {
     "data": {
      "text/plain": [
       "(32.958600000000075, 51.99519999999999, 158.1234480000044)"
      ]
     },
     "execution_count": 248,
     "metadata": {},
     "output_type": "execute_result"
    }
   ],
   "source": [
    "subs[\"delta\"].quantile(0.95), subs[\"delta\"].quantile(0.975), subs[\"delta\"].quantile(0.999)"
   ]
  },
  {
   "cell_type": "code",
   "execution_count": 249,
   "metadata": {},
   "outputs": [
    {
     "data": {
      "image/png": "[encoded data removed]",
      "text/plain": [
       "<Figure size 720x216 with 1 Axes>"
      ]
     },
     "metadata": {
      "needs_background": "light"
     },
     "output_type": "display_data"
    }
   ],
   "source": [
    "plt.figure(figsize=(10,3))\n",
    "plt.plot(subs[\"end_time\"], subs[\"delta\"], )\n",
    "plt.axhline(subs[\"delta\"].quantile(0.90), c='red')\n",
    "plt.axhline(subs[\"delta\"].quantile(0.95), c='pink')\n",
    "plt.axhline(subs[\"delta\"].quantile(0.975), c='orange')\n",
    "plt.axhline(subs[\"delta\"].quantile(0.999), c='yellow')\n",
    "plt.title(\"Time delta between lines, TimeLine\")\n",
    "plt.show()"
   ]
  },
  {
   "cell_type": "code",
   "execution_count": 250,
   "metadata": {},
   "outputs": [
    {
     "data": {
      "text/plain": [
       "31"
      ]
     },
     "execution_count": 250,
     "metadata": {},
     "output_type": "execute_result"
    }
   ],
   "source": [
    "sum(subs[\"delta\"] > subs[\"delta\"].quantile(0.95))"
   ]
  },
  {
   "cell_type": "markdown",
   "metadata": {},
   "source": [
    "# Cut movie into scenes"
   ]
  },
  {
   "cell_type": "code",
   "execution_count": 251,
   "metadata": {},
   "outputs": [],
   "source": [
    "from dataclasses import dataclass\n",
    "\n",
    "@dataclass\n",
    "class Scene:\n",
    "    text: str\n",
    "    start: float\n",
    "    end: float\n",
    "    n_lines: int"
   ]
  },
  {
   "cell_type": "code",
   "execution_count": 252,
   "metadata": {},
   "outputs": [],
   "source": [
    "quantile_95 = subs[\"delta\"].quantile(0.95)\n",
    "scenes = []\n",
    "scene_start = 0\n",
    "scene = ''\n",
    "for i, (text, delta) in enumerate(subs[['text', 'delta']].values):\n",
    "    if delta > quantile_95:\n",
    "        scenes.append(Scene(text=scene.strip(),\n",
    "                            start=subs.at[scene_start, 'start_time'],\n",
    "                            end=subs.at[i-1, 'start_time'],\n",
    "                            n_lines=i-scene_start)\n",
    "                     )\n",
    "        scene_start = i\n",
    "        scene = ''\n",
    "    scene+=text\n",
    "    scene+=' '\n",
    "scenes.append(Scene(text=scene.strip(),\n",
    "                            start=subs.at[scene_start, 'start_time'],\n",
    "                            end=subs.at[i, 'start_time'],\n",
    "                            n_lines=i-scene_start)\n",
    "                     )\n"
   ]
  },
  {
   "cell_type": "code",
   "execution_count": 255,
   "metadata": {},
   "outputs": [
    {
     "data": {
      "text/html": [
       "<div>\n",
       "<style scoped>\n",
       "    .dataframe tbody tr th:only-of-type {\n",
       "        vertical-align: middle;\n",
       "    }\n",
       "\n",
       "    .dataframe tbody tr th {\n",
       "        vertical-align: top;\n",
       "    }\n",
       "\n",
       "    .dataframe thead th {\n",
       "        text-align: right;\n",
       "    }\n",
       "</style>\n",
       "<table border=\"1\" class=\"dataframe\">\n",
       "  <thead>\n",
       "    <tr style=\"text-align: right;\">\n",
       "      <th></th>\n",
       "      <th>text</th>\n",
       "      <th>start</th>\n",
       "      <th>end</th>\n",
       "      <th>n_lines</th>\n",
       "    </tr>\n",
       "  </thead>\n",
       "  <tbody>\n",
       "    <tr>\n",
       "      <th>0</th>\n",
       "      <td>CAPADOCIA, 55 AD Subtitles Encoded by Loya Nao...</td>\n",
       "      <td>65.090</td>\n",
       "      <td>65.090</td>\n",
       "      <td>1</td>\n",
       "    </tr>\n",
       "    <tr>\n",
       "      <th>1</th>\n",
       "      <td>1209 DC NOW Christianity dominated Europe. BY ...</td>\n",
       "      <td>163.420</td>\n",
       "      <td>327.410</td>\n",
       "      <td>24</td>\n",
       "    </tr>\n",
       "    <tr>\n",
       "      <th>2</th>\n",
       "      <td>While we had no visitors, brother Geraldus. Es...</td>\n",
       "      <td>406.829</td>\n",
       "      <td>474.689</td>\n",
       "      <td>18</td>\n",
       "    </tr>\n",
       "    <tr>\n",
       "      <th>3</th>\n",
       "      <td>Brother Ciarán ... Cathal... Street... y Diarm...</td>\n",
       "      <td>529.379</td>\n",
       "      <td>591.009</td>\n",
       "      <td>15</td>\n",
       "    </tr>\n",
       "    <tr>\n",
       "      <th>4</th>\n",
       "      <td>Come on. Come on. Quiet. Chill chill. Rua, Cat...</td>\n",
       "      <td>721.940</td>\n",
       "      <td>760.049</td>\n",
       "      <td>6</td>\n",
       "    </tr>\n",
       "    <tr>\n",
       "      <th>5</th>\n",
       "      <td>They are afraid of it. Even before the lightni...</td>\n",
       "      <td>802.590</td>\n",
       "      <td>935.350</td>\n",
       "      <td>35</td>\n",
       "    </tr>\n",
       "    <tr>\n",
       "      <th>6</th>\n",
       "      <td>What country. \\- It rains as the second flood....</td>\n",
       "      <td>1061.380</td>\n",
       "      <td>1178.829</td>\n",
       "      <td>25</td>\n",
       "    </tr>\n",
       "    <tr>\n",
       "      <th>7</th>\n",
       "      <td>Fighting on the border. Make sure to eat at le...</td>\n",
       "      <td>1213.000</td>\n",
       "      <td>1265.680</td>\n",
       "      <td>14</td>\n",
       "    </tr>\n",
       "    <tr>\n",
       "      <th>8</th>\n",
       "      <td>Geraldus. All I ask is a little faith. It is s...</td>\n",
       "      <td>1332.380</td>\n",
       "      <td>1609.289</td>\n",
       "      <td>40</td>\n",
       "    </tr>\n",
       "    <tr>\n",
       "      <th>9</th>\n",
       "      <td>Fournier. Fournier. My father has awakened? I ...</td>\n",
       "      <td>1646.400</td>\n",
       "      <td>1661.880</td>\n",
       "      <td>4</td>\n",
       "    </tr>\n",
       "    <tr>\n",
       "      <th>10</th>\n",
       "      <td>Blessed brother. My lord Baron. I thought you ...</td>\n",
       "      <td>1716.200</td>\n",
       "      <td>2120.400</td>\n",
       "      <td>85</td>\n",
       "    </tr>\n",
       "    <tr>\n",
       "      <th>11</th>\n",
       "      <td>Madrugaste early monjecito. Always according t...</td>\n",
       "      <td>2184.039</td>\n",
       "      <td>2249.199</td>\n",
       "      <td>15</td>\n",
       "    </tr>\n",
       "    <tr>\n",
       "      <th>12</th>\n",
       "      <td>Also look at the other side. Because sometimes...</td>\n",
       "      <td>2338.719</td>\n",
       "      <td>2353.639</td>\n",
       "      <td>4</td>\n",
       "    </tr>\n",
       "    <tr>\n",
       "      <th>13</th>\n",
       "      <td>Here. Death! Your goes to talk to my father. T...</td>\n",
       "      <td>2396.349</td>\n",
       "      <td>2480.030</td>\n",
       "      <td>20</td>\n",
       "    </tr>\n",
       "    <tr>\n",
       "      <th>14</th>\n",
       "      <td>Alto. Fournier, what's that? In education, the...</td>\n",
       "      <td>2522.269</td>\n",
       "      <td>2602.849</td>\n",
       "      <td>14</td>\n",
       "    </tr>\n",
       "    <tr>\n",
       "      <th>15</th>\n",
       "      <td>Do not touch that. Do not touch that. Detente.</td>\n",
       "      <td>2695.809</td>\n",
       "      <td>2699.449</td>\n",
       "      <td>3</td>\n",
       "    </tr>\n",
       "    <tr>\n",
       "      <th>16</th>\n",
       "      <td>It's me. It's me. It's me. We have to go. We h...</td>\n",
       "      <td>2826.840</td>\n",
       "      <td>2852.969</td>\n",
       "      <td>5</td>\n",
       "    </tr>\n",
       "    <tr>\n",
       "      <th>17</th>\n",
       "      <td>¿Ciarán? Brother? I lost in the trees. Where i...</td>\n",
       "      <td>2906.590</td>\n",
       "      <td>3031.380</td>\n",
       "      <td>24</td>\n",
       "    </tr>\n",
       "    <tr>\n",
       "      <th>18</th>\n",
       "      <td>They are many. We can create a distraction. Th...</td>\n",
       "      <td>3241.789</td>\n",
       "      <td>3302.920</td>\n",
       "      <td>18</td>\n",
       "    </tr>\n",
       "    <tr>\n",
       "      <th>19</th>\n",
       "      <td>Stay here. Gentlemen. Murchoe, Responsibility....</td>\n",
       "      <td>3338.019</td>\n",
       "      <td>3865.210</td>\n",
       "      <td>92</td>\n",
       "    </tr>\n",
       "    <tr>\n",
       "      <th>20</th>\n",
       "      <td>You disobeyed me. I was not going to leave Cia...</td>\n",
       "      <td>3932.179</td>\n",
       "      <td>3972.989</td>\n",
       "      <td>10</td>\n",
       "    </tr>\n",
       "    <tr>\n",
       "      <th>21</th>\n",
       "      <td>Brother. They will kill us. We're alone. They ...</td>\n",
       "      <td>4008.559</td>\n",
       "      <td>4073.320</td>\n",
       "      <td>11</td>\n",
       "    </tr>\n",
       "    <tr>\n",
       "      <th>22</th>\n",
       "      <td>Still. How far do you think you can go? Twenty...</td>\n",
       "      <td>4163.010</td>\n",
       "      <td>4396.409</td>\n",
       "      <td>40</td>\n",
       "    </tr>\n",
       "    <tr>\n",
       "      <th>23</th>\n",
       "      <td>Excuse me, friend. We want to go to Waterford....</td>\n",
       "      <td>4515.260</td>\n",
       "      <td>4589.039</td>\n",
       "      <td>18</td>\n",
       "    </tr>\n",
       "    <tr>\n",
       "      <th>24</th>\n",
       "      <td>What he said is true? About your father. He ha...</td>\n",
       "      <td>4637.350</td>\n",
       "      <td>4699.449</td>\n",
       "      <td>13</td>\n",
       "    </tr>\n",
       "    <tr>\n",
       "      <th>25</th>\n",
       "      <td>\\- What are you doing? - We have to go. Can no...</td>\n",
       "      <td>4751.430</td>\n",
       "      <td>4884.069</td>\n",
       "      <td>24</td>\n",
       "    </tr>\n",
       "    <tr>\n",
       "      <th>26</th>\n",
       "      <td>No matter, take the stone. Raise the front.</td>\n",
       "      <td>4936.420</td>\n",
       "      <td>4963.510</td>\n",
       "      <td>2</td>\n",
       "    </tr>\n",
       "    <tr>\n",
       "      <th>27</th>\n",
       "      <td>Dugald. Take them, for God's sake! TAKE oars! ...</td>\n",
       "      <td>5020.739</td>\n",
       "      <td>5051.569</td>\n",
       "      <td>3</td>\n",
       "    </tr>\n",
       "    <tr>\n",
       "      <th>28</th>\n",
       "      <td>Take all the men left over. The reach in Water...</td>\n",
       "      <td>5086.329</td>\n",
       "      <td>5169.319</td>\n",
       "      <td>10</td>\n",
       "    </tr>\n",
       "    <tr>\n",
       "      <th>29</th>\n",
       "      <td>Have you heard? Did you hear the bells? The be...</td>\n",
       "      <td>5220.800</td>\n",
       "      <td>5292.939</td>\n",
       "      <td>14</td>\n",
       "    </tr>\n",
       "    <tr>\n",
       "      <th>30</th>\n",
       "      <td>Where to now?</td>\n",
       "      <td>5351.029</td>\n",
       "      <td>5351.029</td>\n",
       "      <td>1</td>\n",
       "    </tr>\n",
       "    <tr>\n",
       "      <th>31</th>\n",
       "      <td>Subtitle encoded by Loya Naorem, Manipur, India</td>\n",
       "      <td>5400.000</td>\n",
       "      <td>5400.000</td>\n",
       "      <td>0</td>\n",
       "    </tr>\n",
       "  </tbody>\n",
       "</table>\n",
       "</div>"
      ],
      "text/plain": [
       "                                                 text     start       end  \\\n",
       "0   CAPADOCIA, 55 AD Subtitles Encoded by Loya Nao...    65.090    65.090   \n",
       "1   1209 DC NOW Christianity dominated Europe. BY ...   163.420   327.410   \n",
       "2   While we had no visitors, brother Geraldus. Es...   406.829   474.689   \n",
       "3   Brother Ciarán ... Cathal... Street... y Diarm...   529.379   591.009   \n",
       "4   Come on. Come on. Quiet. Chill chill. Rua, Cat...   721.940   760.049   \n",
       "5   They are afraid of it. Even before the lightni...   802.590   935.350   \n",
       "6   What country. \\- It rains as the second flood....  1061.380  1178.829   \n",
       "7   Fighting on the border. Make sure to eat at le...  1213.000  1265.680   \n",
       "8   Geraldus. All I ask is a little faith. It is s...  1332.380  1609.289   \n",
       "9   Fournier. Fournier. My father has awakened? I ...  1646.400  1661.880   \n",
       "10  Blessed brother. My lord Baron. I thought you ...  1716.200  2120.400   \n",
       "11  Madrugaste early monjecito. Always according t...  2184.039  2249.199   \n",
       "12  Also look at the other side. Because sometimes...  2338.719  2353.639   \n",
       "13  Here. Death! Your goes to talk to my father. T...  2396.349  2480.030   \n",
       "14  Alto. Fournier, what's that? In education, the...  2522.269  2602.849   \n",
       "15     Do not touch that. Do not touch that. Detente.  2695.809  2699.449   \n",
       "16  It's me. It's me. It's me. We have to go. We h...  2826.840  2852.969   \n",
       "17  ¿Ciarán? Brother? I lost in the trees. Where i...  2906.590  3031.380   \n",
       "18  They are many. We can create a distraction. Th...  3241.789  3302.920   \n",
       "19  Stay here. Gentlemen. Murchoe, Responsibility....  3338.019  3865.210   \n",
       "20  You disobeyed me. I was not going to leave Cia...  3932.179  3972.989   \n",
       "21  Brother. They will kill us. We're alone. They ...  4008.559  4073.320   \n",
       "22  Still. How far do you think you can go? Twenty...  4163.010  4396.409   \n",
       "23  Excuse me, friend. We want to go to Waterford....  4515.260  4589.039   \n",
       "24  What he said is true? About your father. He ha...  4637.350  4699.449   \n",
       "25  \\- What are you doing? - We have to go. Can no...  4751.430  4884.069   \n",
       "26        No matter, take the stone. Raise the front.  4936.420  4963.510   \n",
       "27  Dugald. Take them, for God's sake! TAKE oars! ...  5020.739  5051.569   \n",
       "28  Take all the men left over. The reach in Water...  5086.329  5169.319   \n",
       "29  Have you heard? Did you hear the bells? The be...  5220.800  5292.939   \n",
       "30                                      Where to now?  5351.029  5351.029   \n",
       "31    Subtitle encoded by Loya Naorem, Manipur, India  5400.000  5400.000   \n",
       "\n",
       "    n_lines  \n",
       "0         1  \n",
       "1        24  \n",
       "2        18  \n",
       "3        15  \n",
       "4         6  \n",
       "5        35  \n",
       "6        25  \n",
       "7        14  \n",
       "8        40  \n",
       "9         4  \n",
       "10       85  \n",
       "11       15  \n",
       "12        4  \n",
       "13       20  \n",
       "14       14  \n",
       "15        3  \n",
       "16        5  \n",
       "17       24  \n",
       "18       18  \n",
       "19       92  \n",
       "20       10  \n",
       "21       11  \n",
       "22       40  \n",
       "23       18  \n",
       "24       13  \n",
       "25       24  \n",
       "26        2  \n",
       "27        3  \n",
       "28       10  \n",
       "29       14  \n",
       "30        1  \n",
       "31        0  "
      ]
     },
     "execution_count": 255,
     "metadata": {},
     "output_type": "execute_result"
    }
   ],
   "source": [
    "pd.DataFrame(scenes)"
   ]
  },
  {
   "cell_type": "code",
   "execution_count": 254,
   "metadata": {},
   "outputs": [
    {
     "name": "stdout",
     "output_type": "stream",
     "text": [
      "65.09 65.09 1\n",
      "CAPADOCIA, 55 AD Subtitles Encoded by Loya Naorem, Manipur, India\n",
      "\n",
      "163.42 327.41 24\n",
      "1209 DC NOW Christianity dominated Europe. BY FAITH, they are launched crusades to recapture Jerusalem. IRELAND IS FAR FROM HOLY LAND. NORMAN INVADERS loyalists King John of England. FIGHT TO CONQUER THE ISLAND IN GAELIC. A DISTANT MONASTERY PROTEGE an ancient relic. KILMANNAN WEST COAST OF IRELAND. Dammit! What do you think he was thinking the first man who ate this? Brother Cathal said they have no soul ... Animals on earth to clothe and feed. Every creature that does not serve us is our enemy. How would you know the man who serves creature? Was it funny? Desperate? Did God put the idea in your head? Gentlemen. Gentlemen. \\- Gentlemen! - How many? \\- Three. - Did you see the colors? \\- Do you know what clan they are? - Abad, are warriors with them. \\- The relic was moved? - Of course not, Abad. Then we will continue with our duties as usual. But Abad .... You've already heard.\n",
      "\n",
      "406.829 474.689 18\n",
      "While we had no visitors, brother Geraldus. Especially one that came from as far as you. Rome's authority Abad unknown distance. \\- Even in the confines of the earth. - That's impossible. \\- They did not say anything. - I apologize. The Holy Father has many enemies. Discretion was very important. \\- Only despise haste. - You do not know what you're asking for. Abad, Rome has spoken. No discussion. These are dark days for the faithful. Jerusalem is lost 20 years ago. Unbelievers around us everywhere, on all coasts. While conspire heretics among us, our Holy Father believes that the relic kept here, has the power to separate the faithful from the unfaithful, and invoke the wrath of God upon their enemies. A power that could guarantee victory in the next crusade. You can not hide such power.\n",
      "\n",
      "529.379 591.009 15\n",
      "Brother Ciarán ... Cathal... Street... y Diarmuid. There's a boat waiting in Waterford, in the next waning moon. In four days. He will accompany our Cistercian brother there and go to France. Sacrilege. Safely deliver our most sacred relic to Rome. Go with God. The mute will go with you. They will need someone strong. I'm sorry to give this burden to you, Ciarán. Is not that. That boy. \\- All I know is the monastery. - That's why you need to go.\n",
      "\n",
      "721.94 760.049 6\n",
      "Come on. Come on. Quiet. Chill chill. Rua, Cathal. It has no markings.\n",
      "\n",
      "802.59 935.35 35\n",
      "They are afraid of it. Even before the lightning did not approach her. Of course they had. You know what happens to those who disturb the relic. Perhaps you are not familiar with the stories, brother. But would not be so willing to take. Count. Before we have a golden box for storage. Others tried to take her. Nordics. A bloody tide brought to these shores 200 years. Before coming to Kilmannán. The monks were sleeping. The lucky ones have died in bed. But they were awakened by a strange sound. They left the church and saw an angel striking the relic as a bell. The monks fled. When they returned, they saw a big storm had fallen. Each Nordic ship had been dragged to the bottom of the sea, where their souls would not rest. Beside the relic had three Nordic bodies, Deformed and burned. No one except someone with a pure heart can touch the relic and survive. No one. How long have you served them? \\- He is with us for 5 summers. - He's not a monk. He respects what we charge, but not afraid. But he's just a dumb. A retarded. It is not. It is not delayed. Diarmuid found. It appeared on our coast ... \\- ... in a boat without oars and without food. - In some places it is a punishment. Perhaps he is in atonement. It met all the required tasks, even if they are difficult or dangerous. During all that time, he never spoke. We would not fit us ask why. Go to sleep.\n",
      "\n",
      "1061.38 1178.829 25\n",
      "What country. \\- It rains as the second flood. - You get used. I did not know you spoke my language, brother Ciarán. The abbot said he has traveled extensively. \\- Already went to Rome? - A long time ago. And to the Holy Land? Jerusalem? Tell the foreigner who does not drink water. There is a fountain fairy upstream. He says water is not good. She goes out there. \\- And what is that? - A place of Sídhe. Tuatha say DenAnn out by night to jump between those stones. Play with magic water to bewitch travelers. Are you afraid of that? Do they allow pagan superstitions determine their path? \\- Geraldus, we should not stop here. - We are soldiers of Christ. But you're running a simple fight? On behalf of St. Matthias. Whose relic we have the honor of carrying the foot of the Holy See, bless and purify this water. In the Name of the Father, the Son and the Holy Spirit. I cast out demons that fogged, and confino hell, where they will be trapped by flaming currents, and crushed under the feet of God Almighty. Enough of this nonsense! Boy.\n",
      "\n",
      "1213.0 1265.68 14\n",
      "Fighting on the border. Make sure to eat at least 4 or 5 of these leaves. It's okay. What's that, boy? Watermint. \\- Helps relax. - Relieves stomach pain, brother. \\- Want to try it? - I have no pain, herbalist. We'll go far. The river is on the front. The cross will find gray aliens. Let's go. It would take us to the border of Merville. The Times change. War is coming. Let's face it our way. Brothers...\n",
      "\n",
      "1332.38 1609.289 40\n",
      "Geraldus. All I ask is a little faith. It is so difficult? Geraldus brother. Sir Raymond. \\- We did not expect to see it. - Today was the day I decided to return. Many choose to return Gaelic territory. Few return. Found a memory? I will discuss that with your father. You want to find my father? Well, I take you to him. Bastards... Your. What is that? Death. This land was theirs. The gray aliens burned. They prayed for God in the battle. God did not listen. Then they began to worship other things. Dugald. They're thieves. Reténganlos. I imagine that when you join the monastery, They not told you that you could be a workhorse. He's not a monk, my lord. It is a converted a lay brother. Some of my men think they know, but not here. A crusade, right? Venice? ¿Constantinople? Maybe you can solve the problem. \\- They made a small bet. - It's dumb. \\- He does not speak. - She bit her tongue? \\- it is also deaf? - He can hear. But chooses not to. Dime... How does a man with no voice confesses sins? We pray for him. Lucky... You have friends who testify for you, simply by faith. It's like saying, my lord. They are hunters, they will not again.\n",
      "\n",
      "1646.4 1661.88 4\n",
      "Fournier. Fournier. My father has awakened? I brought guests.\n",
      "\n",
      "1716.2 2120.4 85\n",
      "Blessed brother. My lord Baron. I thought you were still in the south. My boundaries are like gardens growing. Before planting new flowers, we need to pull weeds. He found what he was looking for, I think. Yes, I've found. Your help will not go unnoticed. I would have liked to go on pilgrimage with you. See Rome. See the relic and be presented to His Holiness. But unfortunately, I'm an old man now. I'll probably be buried in these lands. Perhaps you allow you see the relic, to give me strength in my prayers, and my knights inspired by it, to further assist in their sacred mission. How the Church can refuse such a loyal servant? It's a beautiful box. It is a humble package. Brother Ciarán? This is unwise. After Judas betrayed Christ, the apostles sought a substitute Belen and Matthias was chosen. After the death and resurrection of our Lord, Matthias traveled north, to bring the Gospel to the barbarians of Cappadocia. He was martyred there. When the stones of the pagans broke their bones and shed their blood. Matthias gave thanks. A stone that ended his earthly life. It caught fire and burned men who killed him. They cried and cried mercy, but the earth opened and swallowed, while the body of Matthias ascended into heaven. And this was the stone. Awesome. Forgive the impertinence of my son. He was born in Ruan, but lives in these lands long ago. They tear down the forests, and they will attack the mountains. Encircle the mountains and hide in the marshes. Is not the same? How to deal with people like that, brother? Dry marshes. He is absolutely right, brother. \\- Permit. - Of course. Raymond, pour me wine. I'm dry as a swamp. Load. You talk about making a deal with the men. \\- I would like to know the details. - I was not referring to you. This implies the sanctity of the relic and the lives of my brothers, then he deserves respect. You're not blind, you know what kind of people are. But you trust everything to protect them. He was on a crusade, brother. It is not so difficult to understand. On the day of judgment, the worst men have greater fear. At least someone intercede for them. That is, do they acquit? A mighty man is not without sin. Baron is not young. Inevitably he turned to more spiritual matters. We are the only salvation. The worst facts unite us. No. No. For us, no. Brother? Rua says that foreigners know the war. He says he is in his blood. They are descendants of the Norse. Who conquered France and England, and will do the same here. But there was real peace in this land, brother? Before foreigners arrived. That was a long time ago, Diarmuid. I was just a child. A little older than you. No. No, there has never been peace. Not here. Or anywhere else in the world. Not since the fall. Why? Some say this is not the natural order of things. Peace needs to grow. You need to be cared for, nurtured. That's... This is beyond the reach of most men.\n",
      "\n",
      "2184.039 2249.199 15\n",
      "Madrugaste early monjecito. Always according to the time. Or maybe you're a spy. My Sir? Leaving hidden to tell about our route south. Is that? \\- No my lord ... - right? So why are you running away? I serve Christ. \\- But you serve your clan before, right? - Do not. My father always been impressed with devout men. And me? I have my doubts. Anyone can wear monk's robes. Your... Raymond, gather your men. We celebrate Mass before leaving. Then this will be for another time.\n",
      "\n",
      "2338.719 2353.639 4\n",
      "Also look at the other side. Because sometimes my husband take that path. Something ails you, brother? No.\n",
      "\n",
      "2396.349 2480.03 20\n",
      "Here. Death! Your goes to talk to my father. Tell that this atrocity will not go unanswered. Then come back! \\- What are you doing? - What is it? Your father said you and your men ... Cowards are on foot. I will not take long to finish them. With a third of our men. My men. Do not worry, Fournier. Back before nightfall, to protect them. \\- Is there another route? - It snowed a lot this year ... The thaw brought down two other bridges. The nearest is becoming noon. Are we on the holes? \\- And what are they? - Only forests. They have a bad reputation, and do not usually travel around. It will change. Soldiers, move.\n",
      "\n",
      "2522.269 2602.849 14\n",
      "Alto. Fournier, what's that? In education, their shields. Hold your positions. He has covered. Muévanse. Shields. Hold your positions. Maintained. Take out the swords. Keep your distance. Closed positions. Shoot. Shoot. Now.\n",
      "\n",
      "2695.809 2699.449 3\n",
      "Do not touch that. Do not touch that. Detente.\n",
      "\n",
      "2826.84 2852.969 5\n",
      "It's me. It's me. It's me. We have to go. We have to go.\n",
      "\n",
      "2906.59 3031.38 24\n",
      "¿Ciarán? Brother? I lost in the trees. Where is the stone? Where is? Where is the stone? We need to get it back. They did not hear the bell? They do not witnessed the miracle? When wild stone desecrated St. Matthias, they saw how God forged an instrument of revenge from the humblest servant. You're in the service of the Church, right? \"Who smote many nations and slew mighty kings ...\" Continue the tranquil heart. These are enemies of Christ. He rejoices with every enemy you destroy. Your work is not done yet. And this is for all of us. And what do you want us to do? Our comrades died. They killed our brothers. \\- We do not know where we are. - A wagon, a prisoner. Must have left traces, do not you think? The young lord of Merville said he would return. He has men, gentlemen. We can wait for him. What if the others return first? It is our duty to try.\n",
      "\n",
      "3241.789 3302.92 18\n",
      "They are many. We can create a distraction. Throw them off. As far as we go with the locket on the coast. We do not need the locket. Just what it is inside. I will take it. I'll take the relic. One of you will have to release Ciarán. We can not risk to recover the relic. Not by a man. How can you say that? That was the oath we took. These bodies are not ours. The Lord can do with them what he believes is right. If Brother Ciarán were here in my place, he would say the same. Although he is alive. How long you need to realize that gone? We can not leave. Let us pray for his soul.\n",
      "\n",
      "3338.019 3865.21 92\n",
      "Stay here. Gentlemen. Murchoe, Responsibility. With me. What he's doing? Brother Ciarán. ¿Diarmuid? ¿Diarmuid? Brother, please silence. Save energy when we run. Wait. We were not told what we steal for you. We were not told how much gold was at stake. Nor they would fight so much to protect him. Judas. \\- Where is Maelseachlain? - We did what we asked. Soldiers killed. But one of the monks shattered our men. Maelseachlain also. He says Maelseachlain is dead, and that one of the monks killed. A monk? It was not a monk, was the devil. Are they with her? Diarmuid, listen. You have to go. You have to go now. I can not leave, not without the stone, not without you. I hope the Lord will forgive me, but pull the wagon. \\- What? Where? - On a clear Galanthus. In the last place I saw you following her. It is close to the trail. Take it and DIRIG East. Keep it safe and you too, Diarmuid. Then Morrigna. The agreement must be changed. \\- They want the box. - As well. I just want what's inside. Go away. Go away. Where is the stone, brother? You swore to protect. And to her. I have sworn to honor ... and obey my King. My father is fighting with him. A relic like yours would be a powerful weapon for negotiation. Presumably it would be well rewarded. King is not happy with the power that some of the subordinate obtained. He thinks they are very friendly cousins ​​in Normandy. A wise man would do everything possible to show their loyalty. And in doing so. Betraying the opportunity to save his own father. My father is a coward. He is dying. He prefers to crawl to the church to secure the future of the family. Where is the relic? Brother, sooner or later will go to Rome. What difference does it spend a year or two with the king? I do not know where it is. You're lying. That's bad. I expected more from a man of the Church. I've got this ... with a father in Constantinople. A strange man. He used it ... to convince the Greeks ... to tell us where they had hidden the gold of his church. It always worked. Your last chance. Where is? What are you feeling? Those are your guts. Writhing around the arrow, like worms on a hook. You want to see them? Jesus. Jesus. Have mercy on my soul. Already he suffered enough, brother. I can give you a quick death. A merciful death. Tell me where the relic. Jesus, Jesus. Dugald, search the tracker. If the relic is not near the battlefield, one of the monks must have it. Did he not tell her? No, he wants to be a martyr. Gathers men. Jesus. You agonizarás to death, and for what? Although we do not find the relic, another stone will. I will put a beautiful box and people will accept it. Even the king or the Pope. \\- Think about it. - God, He loves you. He forgives. I forgive you. Here. It's her? It is.\n",
      "\n",
      "3932.179 3972.989 10\n",
      "You disobeyed me. I was not going to leave Ciarán there. Do you have any idea of ​​the responsibility I carry? Our purpose was ordained by the office of God on Earth. It can not be jeopardized by anything or anyone. Our obligation is to obey. Brother, a war is raging around us. Our enemy is the devil, and is at war. He expects all your life, eternity, for a moment of weakness. Like yours. No yield a él.\n",
      "\n",
      "4008.559 4073.32 11\n",
      "Brother. They will kill us. We're alone. They have riders and horses. \\- You will find our trail. - Cathal. And we'll kill him. We are not alone. We are never alone. Ten fe. Praise. God heard us.\n",
      "\n",
      "4163.01 4396.409 40\n",
      "Still. How far do you think you can go? Twenty paces at most. Or do they think they can walk on water? It does not have to be. Deliver the stone and let you live. I gave the same choice one of his brother monks. But unfortunately, it was foolish. It is not a difficult decision. Not for a soldier. You look different. I assure you one thing. A man can change his appearance ... or how to speak ... but not who he is. As well... Stay with stone. I can find another. But I will kill the Cistercian! Will be worth! Screw you. Geraldus brother ... I did not know if you would have succeeded. Salvation doors will be closed forever for you. Salvation? If I wait, there will be another crusade. Another possibility of acquittal. This is the way the world works. You'll burn you for it ... like your father, He told his friends monks ... Because the Church has entrusted en Geraldus Trencavel d'Albi. ¿An important task? Since you report it as a heretic, when he refused to repent, you, your only son, you send him to the wheel, and then at the stake. After the land you go to church, your future is guaranteed in Rome. He awaits you in hell! Find them. Here. Where to now?\n",
      "\n",
      "4515.26 4589.039 18\n",
      "Excuse me, friend. We want to go to Waterford. It is beyond what we usually go. Not that it matters. We are full, no passengers. Please. Although there were space, they seem to have nothing to give in return. Tell them that we will pay when we get to port. Tell them. \\- Our colleagues will pay you. - Of course they will pay. All have a rich friend, downstream. \\- Why are you laughing?! - Geraldus. We are men of God. Does not that mean anything in this damned country? Brother lowers his voice. We can force them, we can. \\- No, do not do it. - We need them. \\- No. - You're disobeying again? You are not worthy to carry the relic. There is something in you, boy ... \\- ... something evil. - Wait.\n",
      "\n",
      "4637.35 4699.449 13\n",
      "What he said is true? About your father. He harbored heretics. He helped them flee the trial. I served the Church in the best way he could. My conscience is clear. What else you want to know, boy? Nothing. I asked him to repent, but did not repent. Until the end, he refused to believe he had done anything wrong. I learned something very important that day. He did not lose faith in the Church. He lost the fear of it.\n",
      "\n",
      "4751.43 4884.069 24\n",
      "\\- What are you doing? - We have to go. Can not despair in the sea, boy. If they were not so desperate, we would have expected high tide. We can not wait. Unless you want to go out and drag. I knew this was a bad idea. Take your bloody stones. You can walk from here. They leave no witnesses. They will not leave anyone. Everyone leave. No, they can not. We are so close. We will not get it. This is our chance. Absolution who rejected the Normans can be yours. You've done a lot, but it was not enough. Not if that evil prevents us from fulfilling our pilgrimage. Who died in the service of our Lord, you have a place in heaven. \\- No matter what you did before. - What are you saying? Look at me! You smell blood, brother! This is the only way to purify! All martyrs will sit next to God. Salvanos. Salvanos. Salvanos. No, push in the name of Christ. Go with God.\n",
      "\n",
      "4936.42 4963.51 2\n",
      "No matter, take the stone. Raise the front.\n",
      "\n",
      "5020.739 5051.569 3\n",
      "Dugald. Take them, for God's sake! TAKE oars! Cathal.\n",
      "\n",
      "5086.329 5169.319 10\n",
      "Take all the men left over. The reach in Waterford. Diarmuid. Cathal, Cathal... They are fighting, he will not revive. You will suffer. And they will see. Who are you? Where are you from? From hell. From hell.\n",
      "\n",
      "5220.8 5292.939 14\n",
      "Have you heard? Did you hear the bells? The bell inspires an army of men like him. Men recover Jerusalem. Men who will dominate the world. Heretics, infidels, unbelievers. If you do not hear the truth, they will suffer. End all doubt. Stay with the Church and live, if you oppose die. What are you doing? No. For the love of God, stop! This is God's. \\- I'm gonna take her back! - Do not. The devil is in you, boy.\n",
      "\n",
      "5351.029 5351.029 1\n",
      "Where to now?\n",
      "\n",
      "5400.0 5400.0 0\n",
      "Subtitle encoded by Loya Naorem, Manipur, India\n",
      "\n"
     ]
    }
   ],
   "source": [
    "for s in scenes:\n",
    "    print(s.start, s.end, s.n_lines)\n",
    "    print(s.text)\n",
    "    print()"
   ]
  },
  {
   "cell_type": "code",
   "execution_count": null,
   "metadata": {},
   "outputs": [],
   "source": []
  }
 ],
 "metadata": {
  "kernelspec": {
   "display_name": "movies",
   "language": "python",
   "name": "movies"
  },
  "language_info": {
   "codemirror_mode": {
    "name": "ipython",
    "version": 3
   },
   "file_extension": ".py",
   "mimetype": "text/x-python",
   "name": "python",
   "nbconvert_exporter": "python",
   "pygments_lexer": "ipython3",
   "version": "3.10.6"
  },
  "pycharm": {
   "stem_cell": {
    "cell_type": "raw",
    "metadata": {
     "collapsed": false
    },
    "source": []
   }
  }
 },
 "nbformat": 4,
 "nbformat_minor": 4
}
